{
 "cells": [
  {
   "cell_type": "markdown",
   "metadata": {},
   "source": [
    "# Building a Neural Network from scratch"
   ]
  },
  {
   "cell_type": "markdown",
   "metadata": {},
   "source": [
    "**Dataset** - A CSV file containing patients medical records and the likelihood of being diabetic.\n",
    "\n",
    "**Number of records**: 768\n",
    "\n",
    "**Number of features**: 8\n",
    "\n",
    "**Features include:**\n",
    "- `preg` - Number of times pregnant\n",
    "- `plas` - Plasma glucose concentration a 2 hours in an oral glucose tolerance test\n",
    "- `pres` - Diastolic blood pressure (mm Hg)\n",
    "- `skin` - Triceps skin fold thickness (mm)\n",
    "- `test` - 2-Hour serum insulin (mu U/ml)\n",
    "- `mass` - Body mass index (weight in kg/(height in m)^2)\n",
    "- `pedi` - Diabetes pedigree function\n",
    "- `age` - Age (years)\n",
    "\n",
    "**And the target class**\n",
    "- `class` - Class variable (`1`:tested positive for diabetes, `0`: tested negative for diabetes)"
   ]
  },
  {
   "cell_type": "code",
   "execution_count": 1,
   "metadata": {},
   "outputs": [],
   "source": [
    "%matplotlib inline\n",
    "%load_ext autoreload\n",
    "%autoreload 2\n",
    "%config InlineBackend.figure_format = 'retina'\n",
    "\n",
    "import matplotlib.pyplot as plt\n",
    "import numpy as np\n",
    "from pdb import set_trace\n",
    "import pandas as pd"
   ]
  },
  {
   "cell_type": "code",
   "execution_count": 2,
   "metadata": {},
   "outputs": [],
   "source": [
    "data_path = './pima.csv'\n",
    "data = pd.read_csv(data_path)"
   ]
  },
  {
   "cell_type": "code",
   "execution_count": 3,
   "metadata": {
    "scrolled": false
   },
   "outputs": [
    {
     "data": {
      "text/html": [
       "<div>\n",
       "<style scoped>\n",
       "    .dataframe tbody tr th:only-of-type {\n",
       "        vertical-align: middle;\n",
       "    }\n",
       "\n",
       "    .dataframe tbody tr th {\n",
       "        vertical-align: top;\n",
       "    }\n",
       "\n",
       "    .dataframe thead th {\n",
       "        text-align: right;\n",
       "    }\n",
       "</style>\n",
       "<table border=\"1\" class=\"dataframe\">\n",
       "  <thead>\n",
       "    <tr style=\"text-align: right;\">\n",
       "      <th></th>\n",
       "      <th>preg</th>\n",
       "      <th>plas</th>\n",
       "      <th>pres</th>\n",
       "      <th>skin</th>\n",
       "      <th>test</th>\n",
       "      <th>mass</th>\n",
       "      <th>pedi</th>\n",
       "      <th>age</th>\n",
       "      <th>class</th>\n",
       "    </tr>\n",
       "  </thead>\n",
       "  <tbody>\n",
       "    <tr>\n",
       "      <th>0</th>\n",
       "      <td>14</td>\n",
       "      <td>175</td>\n",
       "      <td>62</td>\n",
       "      <td>30</td>\n",
       "      <td>0</td>\n",
       "      <td>33.6</td>\n",
       "      <td>0.212</td>\n",
       "      <td>38</td>\n",
       "      <td>1</td>\n",
       "    </tr>\n",
       "    <tr>\n",
       "      <th>1</th>\n",
       "      <td>7</td>\n",
       "      <td>133</td>\n",
       "      <td>88</td>\n",
       "      <td>15</td>\n",
       "      <td>155</td>\n",
       "      <td>32.4</td>\n",
       "      <td>0.262</td>\n",
       "      <td>37</td>\n",
       "      <td>0</td>\n",
       "    </tr>\n",
       "    <tr>\n",
       "      <th>2</th>\n",
       "      <td>4</td>\n",
       "      <td>146</td>\n",
       "      <td>78</td>\n",
       "      <td>0</td>\n",
       "      <td>0</td>\n",
       "      <td>38.5</td>\n",
       "      <td>0.520</td>\n",
       "      <td>67</td>\n",
       "      <td>1</td>\n",
       "    </tr>\n",
       "    <tr>\n",
       "      <th>3</th>\n",
       "      <td>15</td>\n",
       "      <td>136</td>\n",
       "      <td>70</td>\n",
       "      <td>32</td>\n",
       "      <td>110</td>\n",
       "      <td>37.1</td>\n",
       "      <td>0.153</td>\n",
       "      <td>43</td>\n",
       "      <td>1</td>\n",
       "    </tr>\n",
       "    <tr>\n",
       "      <th>4</th>\n",
       "      <td>3</td>\n",
       "      <td>107</td>\n",
       "      <td>62</td>\n",
       "      <td>13</td>\n",
       "      <td>48</td>\n",
       "      <td>22.9</td>\n",
       "      <td>0.678</td>\n",
       "      <td>23</td>\n",
       "      <td>1</td>\n",
       "    </tr>\n",
       "    <tr>\n",
       "      <th>5</th>\n",
       "      <td>3</td>\n",
       "      <td>169</td>\n",
       "      <td>74</td>\n",
       "      <td>19</td>\n",
       "      <td>125</td>\n",
       "      <td>29.9</td>\n",
       "      <td>0.268</td>\n",
       "      <td>31</td>\n",
       "      <td>1</td>\n",
       "    </tr>\n",
       "    <tr>\n",
       "      <th>6</th>\n",
       "      <td>5</td>\n",
       "      <td>116</td>\n",
       "      <td>74</td>\n",
       "      <td>29</td>\n",
       "      <td>0</td>\n",
       "      <td>32.3</td>\n",
       "      <td>0.660</td>\n",
       "      <td>35</td>\n",
       "      <td>1</td>\n",
       "    </tr>\n",
       "    <tr>\n",
       "      <th>7</th>\n",
       "      <td>6</td>\n",
       "      <td>0</td>\n",
       "      <td>68</td>\n",
       "      <td>41</td>\n",
       "      <td>0</td>\n",
       "      <td>39.0</td>\n",
       "      <td>0.727</td>\n",
       "      <td>41</td>\n",
       "      <td>1</td>\n",
       "    </tr>\n",
       "    <tr>\n",
       "      <th>8</th>\n",
       "      <td>3</td>\n",
       "      <td>173</td>\n",
       "      <td>78</td>\n",
       "      <td>39</td>\n",
       "      <td>185</td>\n",
       "      <td>33.8</td>\n",
       "      <td>0.970</td>\n",
       "      <td>31</td>\n",
       "      <td>1</td>\n",
       "    </tr>\n",
       "    <tr>\n",
       "      <th>9</th>\n",
       "      <td>3</td>\n",
       "      <td>162</td>\n",
       "      <td>52</td>\n",
       "      <td>38</td>\n",
       "      <td>0</td>\n",
       "      <td>37.2</td>\n",
       "      <td>0.652</td>\n",
       "      <td>24</td>\n",
       "      <td>1</td>\n",
       "    </tr>\n",
       "  </tbody>\n",
       "</table>\n",
       "</div>"
      ],
      "text/plain": [
       "   preg  plas  pres  skin  test  mass   pedi  age  class\n",
       "0    14   175    62    30     0  33.6  0.212   38      1\n",
       "1     7   133    88    15   155  32.4  0.262   37      0\n",
       "2     4   146    78     0     0  38.5  0.520   67      1\n",
       "3    15   136    70    32   110  37.1  0.153   43      1\n",
       "4     3   107    62    13    48  22.9  0.678   23      1\n",
       "5     3   169    74    19   125  29.9  0.268   31      1\n",
       "6     5   116    74    29     0  32.3  0.660   35      1\n",
       "7     6     0    68    41     0  39.0  0.727   41      1\n",
       "8     3   173    78    39   185  33.8  0.970   31      1\n",
       "9     3   162    52    38     0  37.2  0.652   24      1"
      ]
     },
     "execution_count": 3,
     "metadata": {},
     "output_type": "execute_result"
    }
   ],
   "source": [
    "data.head(10)"
   ]
  },
  {
   "cell_type": "markdown",
   "metadata": {},
   "source": [
    "## Training, Validation and Testing datasets"
   ]
  },
  {
   "cell_type": "code",
   "execution_count": 4,
   "metadata": {},
   "outputs": [],
   "source": [
    "split_factor = 0.8\n",
    "split = int(split_factor*data.shape[0])\n",
    "\n",
    "train_data = data[:split]\n",
    "test_data = data[split:]\n",
    "\n",
    "target_fields = ['class']\n",
    "features, targets = train_data.drop(target_fields, axis=1), train_data[target_fields]"
   ]
  },
  {
   "cell_type": "code",
   "execution_count": 5,
   "metadata": {},
   "outputs": [],
   "source": [
    "test_features, test_targets = test_data.drop(target_fields, axis=1), test_data[target_fields]"
   ]
  },
  {
   "cell_type": "code",
   "execution_count": 6,
   "metadata": {},
   "outputs": [],
   "source": [
    "val_split_factor = 0.7\n",
    "val_split = int(val_split_factor*train_data.shape[0])\n",
    "\n",
    "train_features, train_targets = features[:val_split], targets[:val_split]\n",
    "val_features, val_targets = features[val_split:], targets[val_split:]"
   ]
  },
  {
   "cell_type": "markdown",
   "metadata": {},
   "source": [
    "### Here, I verify the lengths of the three datasets "
   ]
  },
  {
   "cell_type": "code",
   "execution_count": 7,
   "metadata": {},
   "outputs": [
    {
     "name": "stdout",
     "output_type": "stream",
     "text": [
      "Length of Training Dataset: 429\n",
      "Length of Validation Dataset: 185\n",
      "Length of Test Dataset: 154\n",
      "\n",
      "Total Length: 768\n",
      "Total Number of record: 768\n"
     ]
    }
   ],
   "source": [
    "len_train = len(train_features)\n",
    "len_val = len(val_features)\n",
    "len_test = len(test_features)\n",
    "\n",
    "\n",
    "print(\"Length of Training Dataset: {}\".format(len_train))\n",
    "print(\"Length of Validation Dataset: {}\".format(len_val))\n",
    "print(\"Length of Test Dataset: {}\".format(len_test))\n",
    "print(\"\\nTotal Length: {}\".format(len_train + len_val + len_test))\n",
    "print(\"Total Number of record: {}\".format(data.shape[0]))"
   ]
  },
  {
   "cell_type": "markdown",
   "metadata": {},
   "source": [
    "## Error/Loss/Cost/Objective Function"
   ]
  },
  {
   "cell_type": "code",
   "execution_count": 8,
   "metadata": {},
   "outputs": [],
   "source": [
    "def error_fun(y, Y):\n",
    "    return 0.5*((y-Y)**2)"
   ]
  },
  {
   "cell_type": "markdown",
   "metadata": {},
   "source": [
    "## Define the Network Class\n",
    "A simple neural network class.  \n",
    "1 input layer, 2 hidden layers, and an output layer with one output unit.  \n",
    "It uses the [Sigmoid](https://en.wikipedia.org/wiki/Sigmoid_function) activation function, and includes the bias of a neuron."
   ]
  },
  {
   "cell_type": "code",
   "execution_count": 9,
   "metadata": {},
   "outputs": [],
   "source": [
    "class NeuralNetwork:\n",
    "    def __init__(self, input_nodes, hidden_nodes_1, hidden_nodes_2, output_nodes, learning_rate=1):\n",
    "        self.input_nodes = input_nodes\n",
    "        self.hidden_nodes_1 = hidden_nodes_1\n",
    "        self.hidden_nodes_2 = hidden_nodes_2\n",
    "        self.output_nodes = output_nodes\n",
    "        \n",
    "        \n",
    "        self.weight_1 = np.random.normal(0.0, self.input_nodes**-0.5, (self.input_nodes, self.hidden_nodes_1))\n",
    "        self.bias_1 = np.zeros((self.hidden_nodes_1, 1))\n",
    "\n",
    "        self.weight_2 = np.random.normal(0.0, self.hidden_nodes_1**-0.5, (self.hidden_nodes_1, self.hidden_nodes_2))\n",
    "        self.bias_2 = np.zeros((self.hidden_nodes_2, 1))\n",
    "\n",
    "        self.weight_3 = np.random.normal(0.0, self.hidden_nodes_2**-0.5, (self.hidden_nodes_2, self.output_nodes))\n",
    "        self.bias_3 = np.zeros((self.output_nodes, 1))\n",
    "        \n",
    "        # activation function and derivative\n",
    "        self.activation_fn = lambda x: 1.0/(1+np.exp(-x))\n",
    "        self.activation_fn_deriv = lambda z: z*(1-z)\n",
    "        \n",
    "        self.lr = learning_rate\n",
    "        \n",
    "    def train(self, features, targets):\n",
    "        n_records = features.shape[0]\n",
    "        weight_delta_1 = np.zeros(self.weight_1.shape)\n",
    "        weight_delta_2 = np.zeros(self.weight_2.shape)\n",
    "        weight_delta_3 = np.zeros(self.weight_3.shape)\n",
    "        \n",
    "        weight_deltas = {\n",
    "            '1': weight_delta_1,\n",
    "            '2': weight_delta_2,\n",
    "            '3': weight_delta_3,\n",
    "        }\n",
    "        \n",
    "        for x, y in zip(features, targets):\n",
    "            x = x[:, None] # reshaping\n",
    "            layer_activations = self.forward_prop(x)\n",
    "            deltas = self.backprop(x, y, layer_activations, weight_deltas)\n",
    "            \n",
    "            self.update_bias(deltas['bias_deltas'], n_records)\n",
    "            self.update_weights(deltas['weight_deltas'], n_records)\n",
    "            \n",
    "    \n",
    "    def forward_prop(self, x):\n",
    "        z1 = np.dot(self.weight_1.T, x) + self.bias_1\n",
    "        h1 = self.activation_fn(z1)\n",
    "\n",
    "        z2 = np.dot(self.weight_2.T, h1) + self.bias_2\n",
    "        h2 = self.activation_fn(z2)\n",
    "\n",
    "        z3 = np.dot(self.weight_3.T, h2) + self.bias_3\n",
    "        output = self.activation_fn(z3)\n",
    "        \n",
    "        return {\n",
    "            'output': output,\n",
    "            'h2': h2,\n",
    "            'h1': h2\n",
    "        }\n",
    "    \n",
    "    def backprop(self, x, y, layer_activations, weight_deltas):\n",
    "        \n",
    "        output_error = y - layer_activations['output']\n",
    "        \n",
    "        output_error_delta = output_error * self.activation_fn_deriv(layer_activations['output'])\n",
    "        hidden_err_delta_2 = self.weight_3.dot(output_error_delta) * self.activation_fn_deriv(layer_activations['h2'])\n",
    "        hidden_err_delta_1 = self.weight_2.dot(hidden_err_delta_2) * self.activation_fn_deriv(layer_activations['h1'])\n",
    "        \n",
    "        weight_delta_3 = layer_activations['h2'] * output_error_delta.T\n",
    "        weight_delta_2 = layer_activations['h1'] * hidden_err_delta_2.T\n",
    "        weight_delta_1 = x * hidden_err_delta_1.T\n",
    "        \n",
    "        deltas = {\n",
    "            'weight_deltas': {\n",
    "                '1': weight_delta_1,\n",
    "                '2': weight_delta_2,\n",
    "                '3': weight_delta_3,\n",
    "            },\n",
    "            'bias_deltas': {\n",
    "                '3': output_error_delta,\n",
    "                '2': hidden_err_delta_2,\n",
    "                '1': hidden_err_delta_1\n",
    "            },\n",
    "        }\n",
    "        \n",
    "        return deltas\n",
    "    \n",
    "    \n",
    "    def update_weights(self, weight_deltas, n_records):\n",
    "        self.weight_3 += self.lr * weight_deltas['3']/n_records\n",
    "        self.weight_2 += self.lr * weight_deltas['2']/n_records\n",
    "        self.weight_1 += self.lr * weight_deltas['1']/n_records\n",
    "    \n",
    "    \n",
    "    def update_bias(self, bias_deltas, n_records):\n",
    "        self.bias_3 += self.lr * bias_deltas['3']/n_records\n",
    "        self.bias_2 += self.lr * bias_deltas['2']/n_records\n",
    "        self.bias_1 += self.lr * bias_deltas['1']/n_records\n",
    "        \n",
    "        \n",
    "    \n",
    "    def run(self, ft):\n",
    "        h1 = self.activation_fn(np.dot(self.weight_1.T, ft) + self.bias_1)\n",
    "        h2 = self.activation_fn(np.dot(self.weight_2.T, h1) + self.bias_2)\n",
    "        h3 = self.activation_fn(np.dot(self.weight_3.T, h2) + self.bias_3)\n",
    "\n",
    "        return h3\n",
    "    \n",
    "    \n",
    "    def evaluate(self, features, targets):\n",
    "        errors = []\n",
    "        \n",
    "        for feature, target in zip(features, targets):\n",
    "            feature = feature[:, None]\n",
    "            prediction = self.run(feature)\n",
    "            errors.append(error_fun(prediction, target))\n",
    "        \n",
    "        mean_loss = np.mean(errors)\n",
    "        \n",
    "        return mean_loss\n",
    "        "
   ]
  },
  {
   "cell_type": "markdown",
   "metadata": {},
   "source": [
    "### Define network parameters, and instantiate a network object"
   ]
  },
  {
   "cell_type": "code",
   "execution_count": 10,
   "metadata": {},
   "outputs": [],
   "source": [
    "epochs = 1000\n",
    "check_at = 100\n",
    "learning_rate = 7.5e-3\n",
    "hidden_nodes_1 = 500\n",
    "hidden_nodes_2 = 500\n",
    "output_nodes = 1\n",
    "input_nodes = train_features.shape[1]\n",
    "\n",
    "network = NeuralNetwork(input_nodes, hidden_nodes_1, hidden_nodes_2, output_nodes, learning_rate)"
   ]
  },
  {
   "cell_type": "markdown",
   "metadata": {},
   "source": [
    "### Train the network, and plot the training losses."
   ]
  },
  {
   "cell_type": "code",
   "execution_count": 11,
   "metadata": {
    "scrolled": false
   },
   "outputs": [
    {
     "name": "stderr",
     "output_type": "stream",
     "text": [
      "/Users/andeladeveloper/anaconda3/envs/diab_proj/lib/python3.7/site-packages/ipykernel_launcher.py:4: DeprecationWarning: \n",
      ".ix is deprecated. Please use\n",
      ".loc for label based indexing or\n",
      ".iloc for positional indexing\n",
      "\n",
      "See the documentation here:\n",
      "http://pandas.pydata.org/pandas-docs/stable/indexing.html#ix-indexer-is-deprecated\n",
      "  after removing the cwd from sys.path.\n"
     ]
    },
    {
     "name": "stdout",
     "output_type": "stream",
     "text": [
      "Epochs: 0/1000... Progress: 0.0%... Train Loss: 0.15... Validation Loss: 0.15\n",
      "Epochs: 100/1000... Progress: 10.0%... Train Loss: 0.12... Validation Loss: 0.11\n",
      "Epochs: 200/1000... Progress: 20.0%... Train Loss: 0.12... Validation Loss: 0.11\n",
      "Epochs: 300/1000... Progress: 30.0%... Train Loss: 0.12... Validation Loss: 0.11\n",
      "Epochs: 400/1000... Progress: 40.0%... Train Loss: 0.12... Validation Loss: 0.11\n",
      "Epochs: 500/1000... Progress: 50.0%... Train Loss: 0.12... Validation Loss: 0.11\n",
      "Epochs: 600/1000... Progress: 60.0%... Train Loss: 0.11... Validation Loss: 0.11\n",
      "Epochs: 700/1000... Progress: 70.0%... Train Loss: 0.11... Validation Loss: 0.11\n",
      "Epochs: 800/1000... Progress: 80.0%... Train Loss: 0.11... Validation Loss: 0.11\n",
      "Epochs: 900/1000... Progress: 90.0%... Train Loss: 0.11... Validation Loss: 0.11\n"
     ]
    },
    {
     "data": {
      "image/png": "[encoded data removed]",
      "text/plain": [
       "<Figure size 432x288 with 1 Axes>"
      ]
     },
     "metadata": {
      "image/png": {
       "height": 250,
       "width": 380
      },
      "needs_background": "light"
     },
     "output_type": "display_data"
    }
   ],
   "source": [
    "losses = { 'train':[], 'valid':[] }\n",
    "for ii in range(epochs):\n",
    "    batch = np.random.choice(train_features.index, size=20)\n",
    "    x, y = train_features.ix[batch].values, train_targets.ix[batch]['class']\n",
    "    \n",
    "    # training\n",
    "    network.train(x, y)\n",
    "    \n",
    "    # Validation\n",
    "    mean_train_loss = network.evaluate(train_features.values, train_targets.values)\n",
    "    losses['train'].append(mean_train_loss)\n",
    "    \n",
    "    mean_valid_loss = network.evaluate(val_features.values, val_targets.values)\n",
    "    losses['valid'].append(mean_valid_loss)\n",
    "    \n",
    "    if ii % check_at == 0:\n",
    "        print(\n",
    "            \"Epochs: {}/{}\".format(ii, epochs) \\\n",
    "            + \"... Progress: {}%\".format(100 * ii/float(epochs)) \\\n",
    "            + \"... Train Loss: {:2.2f}\".format(mean_train_loss) \\\n",
    "            + \"... Validation Loss: {:2.2f}\".format(mean_valid_loss)\n",
    "        )\n",
    "    \n",
    "plt.plot(losses['train'], label='Training Loss')\n",
    "plt.plot(losses['valid'], label='Validation Loss')\n",
    "plt.legend()\n",
    "_ = plt.ylim()"
   ]
  },
  {
   "cell_type": "markdown",
   "metadata": {},
   "source": [
    "## Testing\n",
    "Evaluate the network model performance on the test data"
   ]
  },
  {
   "cell_type": "code",
   "execution_count": 12,
   "metadata": {},
   "outputs": [
    {
     "name": "stdout",
     "output_type": "stream",
     "text": [
      "Test Loss: 0.11279147873291491\n"
     ]
    }
   ],
   "source": [
    "mean_test_loss = network.evaluate(test_features.values, test_targets.values)\n",
    "print(\"Test Loss: {}\".format(mean_test_loss))"
   ]
  },
  {
   "cell_type": "code",
   "execution_count": null,
   "metadata": {},
   "outputs": [],
   "source": []
  }
 ],
 "metadata": {
  "kernelspec": {
   "display_name": "Python 3",
   "language": "python",
   "name": "python3"
  },
  "language_info": {
   "codemirror_mode": {
    "name": "ipython",
    "version": 3
   },
   "file_extension": ".py",
   "mimetype": "text/x-python",
   "name": "python",
   "nbconvert_exporter": "python",
   "pygments_lexer": "ipython3",
   "version": "3.7.3"
  }
 },
 "nbformat": 4,
 "nbformat_minor": 2
}
