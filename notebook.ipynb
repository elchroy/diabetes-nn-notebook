{
 "cells": [
  {
   "cell_type": "code",
   "execution_count": 1,
   "metadata": {},
   "outputs": [],
   "source": [
    "\"\"\"\n",
    "Author: Elisha-Wigwe Chijioke O.\n",
    "\"\"\"\n",
    "\n",
    "%matplotlib inline\n",
    "%load_ext autoreload\n",
    "%autoreload 2\n",
    "%config InlineBackend.figure_format = 'retina'\n",
    "\n",
    "import matplotlib.pyplot as plt\n",
    "import numpy as np\n",
    "from pdb import set_trace\n",
    "import pandas as pd"
   ]
  },
  {
   "cell_type": "code",
   "execution_count": 2,
   "metadata": {},
   "outputs": [],
   "source": [
    "data_path = './pima.csv'\n",
    "data = pd.read_csv(data_path)"
   ]
  },
  {
   "cell_type": "code",
   "execution_count": 3,
   "metadata": {
    "scrolled": false
   },
   "outputs": [
    {
     "data": {
      "text/html": [
       "<div>\n",
       "<style scoped>\n",
       "    .dataframe tbody tr th:only-of-type {\n",
       "        vertical-align: middle;\n",
       "    }\n",
       "\n",
       "    .dataframe tbody tr th {\n",
       "        vertical-align: top;\n",
       "    }\n",
       "\n",
       "    .dataframe thead th {\n",
       "        text-align: right;\n",
       "    }\n",
       "</style>\n",
       "<table border=\"1\" class=\"dataframe\">\n",
       "  <thead>\n",
       "    <tr style=\"text-align: right;\">\n",
       "      <th></th>\n",
       "      <th>preg</th>\n",
       "      <th>plas</th>\n",
       "      <th>pres</th>\n",
       "      <th>skin</th>\n",
       "      <th>test</th>\n",
       "      <th>mass</th>\n",
       "      <th>pedi</th>\n",
       "      <th>age</th>\n",
       "      <th>class</th>\n",
       "    </tr>\n",
       "  </thead>\n",
       "  <tbody>\n",
       "    <tr>\n",
       "      <th>0</th>\n",
       "      <td>14</td>\n",
       "      <td>175</td>\n",
       "      <td>62</td>\n",
       "      <td>30</td>\n",
       "      <td>0</td>\n",
       "      <td>33.6</td>\n",
       "      <td>0.212</td>\n",
       "      <td>38</td>\n",
       "      <td>1</td>\n",
       "    </tr>\n",
       "    <tr>\n",
       "      <th>1</th>\n",
       "      <td>7</td>\n",
       "      <td>133</td>\n",
       "      <td>88</td>\n",
       "      <td>15</td>\n",
       "      <td>155</td>\n",
       "      <td>32.4</td>\n",
       "      <td>0.262</td>\n",
       "      <td>37</td>\n",
       "      <td>0</td>\n",
       "    </tr>\n",
       "    <tr>\n",
       "      <th>2</th>\n",
       "      <td>4</td>\n",
       "      <td>146</td>\n",
       "      <td>78</td>\n",
       "      <td>0</td>\n",
       "      <td>0</td>\n",
       "      <td>38.5</td>\n",
       "      <td>0.520</td>\n",
       "      <td>67</td>\n",
       "      <td>1</td>\n",
       "    </tr>\n",
       "    <tr>\n",
       "      <th>3</th>\n",
       "      <td>15</td>\n",
       "      <td>136</td>\n",
       "      <td>70</td>\n",
       "      <td>32</td>\n",
       "      <td>110</td>\n",
       "      <td>37.1</td>\n",
       "      <td>0.153</td>\n",
       "      <td>43</td>\n",
       "      <td>1</td>\n",
       "    </tr>\n",
       "    <tr>\n",
       "      <th>4</th>\n",
       "      <td>3</td>\n",
       "      <td>107</td>\n",
       "      <td>62</td>\n",
       "      <td>13</td>\n",
       "      <td>48</td>\n",
       "      <td>22.9</td>\n",
       "      <td>0.678</td>\n",
       "      <td>23</td>\n",
       "      <td>1</td>\n",
       "    </tr>\n",
       "  </tbody>\n",
       "</table>\n",
       "</div>"
      ],
      "text/plain": [
       "   preg  plas  pres  skin  test  mass   pedi  age  class\n",
       "0    14   175    62    30     0  33.6  0.212   38      1\n",
       "1     7   133    88    15   155  32.4  0.262   37      0\n",
       "2     4   146    78     0     0  38.5  0.520   67      1\n",
       "3    15   136    70    32   110  37.1  0.153   43      1\n",
       "4     3   107    62    13    48  22.9  0.678   23      1"
      ]
     },
     "execution_count": 3,
     "metadata": {},
     "output_type": "execute_result"
    }
   ],
   "source": [
    "data.head()"
   ]
  },
  {
   "cell_type": "code",
   "execution_count": 4,
   "metadata": {},
   "outputs": [],
   "source": [
    "def error_fun(y, Y):\n",
    "    return np.mean((y-Y)**2)"
   ]
  },
  {
   "cell_type": "code",
   "execution_count": 5,
   "metadata": {},
   "outputs": [],
   "source": [
    "split_factor = 0.8\n",
    "split = int(split_factor*data.shape[0])\n",
    "\n",
    "train_data = data[:split]\n",
    "test_data = data[split:]\n",
    "\n",
    "target_fields = ['class']\n",
    "features, targets = train_data.drop(target_fields, axis=1), train_data[target_fields]"
   ]
  },
  {
   "cell_type": "code",
   "execution_count": 6,
   "metadata": {},
   "outputs": [],
   "source": [
    "test_features, test_targets = test_data.drop(target_fields, axis=1), test_data[target_fields]"
   ]
  },
  {
   "cell_type": "code",
   "execution_count": 7,
   "metadata": {},
   "outputs": [],
   "source": [
    "val_split_factor = 0.7\n",
    "val_split = int(val_split_factor*train_data.shape[0])\n",
    "\n",
    "train_features, train_targets = features[:val_split], targets[:val_split]\n",
    "val_features, val_targets = features[val_split:], targets[val_split:]"
   ]
  },
  {
   "cell_type": "code",
   "execution_count": 8,
   "metadata": {},
   "outputs": [],
   "source": [
    "from pdb import set_trace\n",
    "class NeuralNetwork:\n",
    "    def __init__(self, input_nodes, hidden_nodes, output_nodes, learning_rate=1):\n",
    "        self.input_nodes = input_nodes\n",
    "        self.hidden_nodes = hidden_nodes\n",
    "        self.output_nodes = output_nodes\n",
    "        \n",
    "        self.lr = learning_rate\n",
    "        \n",
    "        self.w_input_to_hidden = np.random.normal(0.0, self.input_nodes**-0.5, \n",
    "                                       (self.input_nodes, self.hidden_nodes))\n",
    "        \n",
    "        self.w_hidden_to_output = np.random.normal(0.0, self.hidden_nodes**-0.5, \n",
    "                                       (self.hidden_nodes, self.output_nodes))\n",
    "        \n",
    "        # activation function\n",
    "        self.activation_fn = lambda x: 1.0/(1+np.exp(-x))\n",
    "        self.activation_fn_deriv = lambda z: z*(1-z)\n",
    "        \n",
    "    \n",
    "    # train\n",
    "    def train(self, features, targets):\n",
    "        n_records = features.shape[0]\n",
    "        delta_weights_i_h = np.zeros(self.w_input_to_hidden.shape)\n",
    "        delta_weights_h_o = np.zeros(self.w_hidden_to_output.shape)\n",
    "        \n",
    "        for x, y in zip(features, targets):\n",
    "            f_out, h_out = self.forward_prop(x)\n",
    "            delta_weights_i_h, delta_weights_h_o = self.backprop(f_out, h_out, x, y, \n",
    "                                                                        delta_weights_i_h, delta_weights_h_o)\n",
    "        self.update_weights(delta_weights_i_h, delta_weights_h_o, n_records)\n",
    "            \n",
    "    \n",
    "    def forward_prop(self, x):\n",
    "        hidden_i = np.dot(x, self.w_input_to_hidden)\n",
    "        hidden_o = self.activation_fn(hidden_i)\n",
    "        \n",
    "        final_i = np.dot(hidden_o, self.w_hidden_to_output)\n",
    "        final_o = self.activation_fn(final_i)\n",
    "        \n",
    "        return final_i, final_o\n",
    "    \n",
    "    def backprop(self, final_o, hidden_o, x, y, delta_weights_i_h, delta_weights_h_o):\n",
    "        \n",
    "        error = y - final_o\n",
    "        output_error_delta = error * self.activation_fn_deriv(final_o)\n",
    "        \n",
    "        hidden_error = np.dot(self.w_hidden_to_output, output_error_delta)\n",
    "        hidden_error_delta = hidden_error * self.activation_fn_deriv(hidden_o)\n",
    "        \n",
    "        delta_weights_h_o = output_error_delta * hidden_o[:, None]\n",
    "        delta_weights_i_h = hidden_error_delta * x[:, None]\n",
    "        \n",
    "        return delta_weights_i_h, delta_weights_h_o\n",
    "    \n",
    "    \n",
    "    def update_weights(self, delta_weights_i_h, delta_weights_h_o, n_records):\n",
    "        self.w_hidden_to_output += self.lr * delta_weights_h_o / n_records\n",
    "        self.w_input_to_hidden += self.lr * delta_weights_i_h / n_records\n",
    "        \n",
    "    \n",
    "    def run(self, features):\n",
    "        hi = np.dot(features, self.w_input_to_hidden)\n",
    "        ho = self.activation_fn(hi)\n",
    "        \n",
    "        fi = np.dot(ho, self.w_hidden_to_output)\n",
    "        fo = self.activation_fn(fi)\n",
    "        \n",
    "        return fo\n",
    "        "
   ]
  },
  {
   "cell_type": "code",
   "execution_count": null,
   "metadata": {},
   "outputs": [],
   "source": [
    "import sys\n",
    "\n",
    "epochs = 2000\n",
    "learning_rate = 1e-2\n",
    "hidden_nodes = 10\n",
    "output_nodes = 1\n",
    "input_nodes = train_features.shape[1]\n",
    "\n",
    "network = NeuralNetwork(input_nodes, hidden_nodes, output_nodes, learning_rate)"
   ]
  },
  {
   "cell_type": "code",
   "execution_count": null,
   "metadata": {},
   "outputs": [
    {
     "name": "stdout",
     "output_type": "stream",
     "text": [
      "Progress: 2.50% ... Training loss: 0.306 ... Validation loss: 0.242"
     ]
    },
    {
     "name": "stderr",
     "output_type": "stream",
     "text": [
      "/Users/andeladeveloper/anaconda3/envs/diab_proj/lib/python3.7/site-packages/ipykernel_launcher.py:5: DeprecationWarning: \n",
      ".ix is deprecated. Please use\n",
      ".loc for label based indexing or\n",
      ".iloc for positional indexing\n",
      "\n",
      "See the documentation here:\n",
      "http://pandas.pydata.org/pandas-docs/stable/indexing.html#ix-indexer-is-deprecated\n",
      "  \"\"\"\n"
     ]
    },
    {
     "name": "stdout",
     "output_type": "stream",
     "text": [
      "Progress: 13.70% ... Training loss: 0.353 ... Validation loss: 0.276"
     ]
    }
   ],
   "source": [
    "losses = { 'train':[], 'valid':[] }\n",
    "\n",
    "for ii in range(epochs):\n",
    "    batch = np.random.choice(train_features.index, size=20)\n",
    "    x, y = train_features.ix[batch].values, train_targets.ix[batch]['class']\n",
    "    \n",
    "    # training\n",
    "    network.train(x, y)\n",
    "    \n",
    "    train_loss = error_fun(network.run(train_features).T, train_targets['class'].values)\n",
    "    val_loss = error_fun(network.run(val_features).T, val_targets['class'].values)\n",
    "    \n",
    "    sys.stdout.write(\"\\rProgress: {:2.2f}\".format(100 * ii/float(epochs)) \\\n",
    "              + \"% ... Training loss: \" + str(train_loss)[:5] \\\n",
    "              + \" ... Validation loss: \" + str(val_loss)[:5])\n",
    "    sys.stdout.flush()\n",
    "    \n",
    "    losses['train'].append(train_loss)\n",
    "    losses['valid'].append(val_loss)\n",
    "    \n"
   ]
  },
  {
   "cell_type": "code",
   "execution_count": null,
   "metadata": {
    "scrolled": true
   },
   "outputs": [],
   "source": [
    "plt.plot(losses['train'], label='Training loss')\n",
    "plt.plot(losses['valid'], label='Validation loss')\n",
    "plt.legend()\n",
    "_ = plt.ylim()"
   ]
  },
  {
   "cell_type": "code",
   "execution_count": null,
   "metadata": {},
   "outputs": [],
   "source": [
    "# Run on testing features"
   ]
  }
 ],
 "metadata": {
  "kernelspec": {
   "display_name": "Python 3",
   "language": "python",
   "name": "python3"
  },
  "language_info": {
   "codemirror_mode": {
    "name": "ipython",
    "version": 3
   },
   "file_extension": ".py",
   "mimetype": "text/x-python",
   "name": "python",
   "nbconvert_exporter": "python",
   "pygments_lexer": "ipython3",
   "version": "3.7.3"
  }
 },
 "nbformat": 4,
 "nbformat_minor": 2
}
